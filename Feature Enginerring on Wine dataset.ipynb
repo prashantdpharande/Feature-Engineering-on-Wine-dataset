{
 "cells": [
  {
   "cell_type": "code",
   "execution_count": 1,
   "id": "2814b414",
   "metadata": {},
   "outputs": [
    {
     "name": "stderr",
     "output_type": "stream",
     "text": [
      "C:\\ProgramData\\Anaconda3\\lib\\site-packages\\scipy\\__init__.py:146: UserWarning: A NumPy version >=1.16.5 and <1.23.0 is required for this version of SciPy (detected version 1.24.2\n",
      "  warnings.warn(f\"A NumPy version >={np_minversion} and <{np_maxversion}\"\n"
     ]
    }
   ],
   "source": [
    "import pandas as pd\n",
    "import numpy as np\n",
    "from sklearn.datasets import load_wine\n",
    "import seaborn as sns\n",
    "import matplotlib.pyplot as plt"
   ]
  },
  {
   "cell_type": "code",
   "execution_count": 2,
   "id": "dfabcba5",
   "metadata": {},
   "outputs": [
    {
     "data": {
      "text/plain": [
       "{'data': array([[1.423e+01, 1.710e+00, 2.430e+00, ..., 1.040e+00, 3.920e+00,\n",
       "         1.065e+03],\n",
       "        [1.320e+01, 1.780e+00, 2.140e+00, ..., 1.050e+00, 3.400e+00,\n",
       "         1.050e+03],\n",
       "        [1.316e+01, 2.360e+00, 2.670e+00, ..., 1.030e+00, 3.170e+00,\n",
       "         1.185e+03],\n",
       "        ...,\n",
       "        [1.327e+01, 4.280e+00, 2.260e+00, ..., 5.900e-01, 1.560e+00,\n",
       "         8.350e+02],\n",
       "        [1.317e+01, 2.590e+00, 2.370e+00, ..., 6.000e-01, 1.620e+00,\n",
       "         8.400e+02],\n",
       "        [1.413e+01, 4.100e+00, 2.740e+00, ..., 6.100e-01, 1.600e+00,\n",
       "         5.600e+02]]),\n",
       " 'target': array([0, 0, 0, 0, 0, 0, 0, 0, 0, 0, 0, 0, 0, 0, 0, 0, 0, 0, 0, 0, 0, 0,\n",
       "        0, 0, 0, 0, 0, 0, 0, 0, 0, 0, 0, 0, 0, 0, 0, 0, 0, 0, 0, 0, 0, 0,\n",
       "        0, 0, 0, 0, 0, 0, 0, 0, 0, 0, 0, 0, 0, 0, 0, 1, 1, 1, 1, 1, 1, 1,\n",
       "        1, 1, 1, 1, 1, 1, 1, 1, 1, 1, 1, 1, 1, 1, 1, 1, 1, 1, 1, 1, 1, 1,\n",
       "        1, 1, 1, 1, 1, 1, 1, 1, 1, 1, 1, 1, 1, 1, 1, 1, 1, 1, 1, 1, 1, 1,\n",
       "        1, 1, 1, 1, 1, 1, 1, 1, 1, 1, 1, 1, 1, 1, 1, 1, 1, 1, 1, 1, 2, 2,\n",
       "        2, 2, 2, 2, 2, 2, 2, 2, 2, 2, 2, 2, 2, 2, 2, 2, 2, 2, 2, 2, 2, 2,\n",
       "        2, 2, 2, 2, 2, 2, 2, 2, 2, 2, 2, 2, 2, 2, 2, 2, 2, 2, 2, 2, 2, 2,\n",
       "        2, 2]),\n",
       " 'frame': None,\n",
       " 'target_names': array(['class_0', 'class_1', 'class_2'], dtype='<U7'),\n",
       " 'DESCR': '.. _wine_dataset:\\n\\nWine recognition dataset\\n------------------------\\n\\n**Data Set Characteristics:**\\n\\n    :Number of Instances: 178 (50 in each of three classes)\\n    :Number of Attributes: 13 numeric, predictive attributes and the class\\n    :Attribute Information:\\n \\t\\t- Alcohol\\n \\t\\t- Malic acid\\n \\t\\t- Ash\\n\\t\\t- Alcalinity of ash  \\n \\t\\t- Magnesium\\n\\t\\t- Total phenols\\n \\t\\t- Flavanoids\\n \\t\\t- Nonflavanoid phenols\\n \\t\\t- Proanthocyanins\\n\\t\\t- Color intensity\\n \\t\\t- Hue\\n \\t\\t- OD280/OD315 of diluted wines\\n \\t\\t- Proline\\n\\n    - class:\\n            - class_0\\n            - class_1\\n            - class_2\\n\\t\\t\\n    :Summary Statistics:\\n    \\n    ============================= ==== ===== ======= =====\\n                                   Min   Max   Mean     SD\\n    ============================= ==== ===== ======= =====\\n    Alcohol:                      11.0  14.8    13.0   0.8\\n    Malic Acid:                   0.74  5.80    2.34  1.12\\n    Ash:                          1.36  3.23    2.36  0.27\\n    Alcalinity of Ash:            10.6  30.0    19.5   3.3\\n    Magnesium:                    70.0 162.0    99.7  14.3\\n    Total Phenols:                0.98  3.88    2.29  0.63\\n    Flavanoids:                   0.34  5.08    2.03  1.00\\n    Nonflavanoid Phenols:         0.13  0.66    0.36  0.12\\n    Proanthocyanins:              0.41  3.58    1.59  0.57\\n    Colour Intensity:              1.3  13.0     5.1   2.3\\n    Hue:                          0.48  1.71    0.96  0.23\\n    OD280/OD315 of diluted wines: 1.27  4.00    2.61  0.71\\n    Proline:                       278  1680     746   315\\n    ============================= ==== ===== ======= =====\\n\\n    :Missing Attribute Values: None\\n    :Class Distribution: class_0 (59), class_1 (71), class_2 (48)\\n    :Creator: R.A. Fisher\\n    :Donor: Michael Marshall (MARSHALL%PLU@io.arc.nasa.gov)\\n    :Date: July, 1988\\n\\nThis is a copy of UCI ML Wine recognition datasets.\\nhttps://archive.ics.uci.edu/ml/machine-learning-databases/wine/wine.data\\n\\nThe data is the results of a chemical analysis of wines grown in the same\\nregion in Italy by three different cultivators. There are thirteen different\\nmeasurements taken for different constituents found in the three types of\\nwine.\\n\\nOriginal Owners: \\n\\nForina, M. et al, PARVUS - \\nAn Extendible Package for Data Exploration, Classification and Correlation. \\nInstitute of Pharmaceutical and Food Analysis and Technologies,\\nVia Brigata Salerno, 16147 Genoa, Italy.\\n\\nCitation:\\n\\nLichman, M. (2013). UCI Machine Learning Repository\\n[https://archive.ics.uci.edu/ml]. Irvine, CA: University of California,\\nSchool of Information and Computer Science. \\n\\n.. topic:: References\\n\\n  (1) S. Aeberhard, D. Coomans and O. de Vel, \\n  Comparison of Classifiers in High Dimensional Settings, \\n  Tech. Rep. no. 92-02, (1992), Dept. of Computer Science and Dept. of  \\n  Mathematics and Statistics, James Cook University of North Queensland. \\n  (Also submitted to Technometrics). \\n\\n  The data was used with many others for comparing various \\n  classifiers. The classes are separable, though only RDA \\n  has achieved 100% correct classification. \\n  (RDA : 100%, QDA 99.4%, LDA 98.9%, 1NN 96.1% (z-transformed data)) \\n  (All results using the leave-one-out technique) \\n\\n  (2) S. Aeberhard, D. Coomans and O. de Vel, \\n  \"THE CLASSIFICATION PERFORMANCE OF RDA\" \\n  Tech. Rep. no. 92-01, (1992), Dept. of Computer Science and Dept. of \\n  Mathematics and Statistics, James Cook University of North Queensland. \\n  (Also submitted to Journal of Chemometrics).\\n',\n",
       " 'feature_names': ['alcohol',\n",
       "  'malic_acid',\n",
       "  'ash',\n",
       "  'alcalinity_of_ash',\n",
       "  'magnesium',\n",
       "  'total_phenols',\n",
       "  'flavanoids',\n",
       "  'nonflavanoid_phenols',\n",
       "  'proanthocyanins',\n",
       "  'color_intensity',\n",
       "  'hue',\n",
       "  'od280/od315_of_diluted_wines',\n",
       "  'proline']}"
      ]
     },
     "execution_count": 2,
     "metadata": {},
     "output_type": "execute_result"
    }
   ],
   "source": [
    "dataset=load_wine()\n",
    "dataset"
   ]
  },
  {
   "cell_type": "code",
   "execution_count": 3,
   "id": "f32a615e",
   "metadata": {},
   "outputs": [],
   "source": [
    "df_x=pd.DataFrame(data=dataset.data,columns=dataset.feature_names)\n",
    "y=pd.DataFrame(data=dataset.target,columns=['target'])"
   ]
  },
  {
   "cell_type": "markdown",
   "id": "2db75921",
   "metadata": {},
   "source": [
    "# corrwith"
   ]
  },
  {
   "cell_type": "code",
   "execution_count": 4,
   "id": "39a0c692",
   "metadata": {},
   "outputs": [
    {
     "data": {
      "text/plain": [
       "<AxesSubplot:>"
      ]
     },
     "execution_count": 4,
     "metadata": {},
     "output_type": "execute_result"
    },
    {
     "data": {
      "image/png": "[encoded data removed]",
      "text/plain": [
       "<Figure size 1080x360 with 1 Axes>"
      ]
     },
     "metadata": {
      "needs_background": "light"
     },
     "output_type": "display_data"
    }
   ],
   "source": [
    "df_new=pd.concat([df_x,y],axis=1)\n",
    "plt.figure(figsize=(15,5))\n",
    "df_new.corrwith(df_new['target']).sort_values().plot(kind='bar')"
   ]
  },
  {
   "cell_type": "markdown",
   "id": "a99a31df",
   "metadata": {},
   "source": [
    "Pairwise correlation is computed between rows or columns of DataFrame with rows or columns of Series or DataFrame. \n",
    "DataFrames are first aligned along both axes before computing the correlations."
   ]
  },
  {
   "cell_type": "markdown",
   "id": "49ec0375",
   "metadata": {},
   "source": [
    "Compute pairwise correlation of columns, excluding NA/null values."
   ]
  },
  {
   "cell_type": "code",
   "execution_count": 5,
   "id": "06dbf28e",
   "metadata": {},
   "outputs": [
    {
     "data": {
      "text/html": [
       "<div>\n",
       "<style scoped>\n",
       "    .dataframe tbody tr th:only-of-type {\n",
       "        vertical-align: middle;\n",
       "    }\n",
       "\n",
       "    .dataframe tbody tr th {\n",
       "        vertical-align: top;\n",
       "    }\n",
       "\n",
       "    .dataframe thead th {\n",
       "        text-align: right;\n",
       "    }\n",
       "</style>\n",
       "<table border=\"1\" class=\"dataframe\">\n",
       "  <thead>\n",
       "    <tr style=\"text-align: right;\">\n",
       "      <th></th>\n",
       "      <th>alcohol</th>\n",
       "      <th>malic_acid</th>\n",
       "      <th>ash</th>\n",
       "      <th>alcalinity_of_ash</th>\n",
       "      <th>magnesium</th>\n",
       "      <th>total_phenols</th>\n",
       "      <th>flavanoids</th>\n",
       "      <th>nonflavanoid_phenols</th>\n",
       "      <th>proanthocyanins</th>\n",
       "      <th>color_intensity</th>\n",
       "      <th>hue</th>\n",
       "      <th>od280/od315_of_diluted_wines</th>\n",
       "      <th>proline</th>\n",
       "    </tr>\n",
       "  </thead>\n",
       "  <tbody>\n",
       "    <tr>\n",
       "      <th>111</th>\n",
       "      <td>12.52</td>\n",
       "      <td>2.43</td>\n",
       "      <td>2.17</td>\n",
       "      <td>21.0</td>\n",
       "      <td>88.0</td>\n",
       "      <td>2.55</td>\n",
       "      <td>2.27</td>\n",
       "      <td>0.26</td>\n",
       "      <td>1.22</td>\n",
       "      <td>2.00</td>\n",
       "      <td>0.90</td>\n",
       "      <td>2.78</td>\n",
       "      <td>325.0</td>\n",
       "    </tr>\n",
       "    <tr>\n",
       "      <th>0</th>\n",
       "      <td>14.23</td>\n",
       "      <td>1.71</td>\n",
       "      <td>2.43</td>\n",
       "      <td>15.6</td>\n",
       "      <td>127.0</td>\n",
       "      <td>2.80</td>\n",
       "      <td>3.06</td>\n",
       "      <td>0.28</td>\n",
       "      <td>2.29</td>\n",
       "      <td>5.64</td>\n",
       "      <td>1.04</td>\n",
       "      <td>3.92</td>\n",
       "      <td>1065.0</td>\n",
       "    </tr>\n",
       "    <tr>\n",
       "      <th>138</th>\n",
       "      <td>13.49</td>\n",
       "      <td>3.59</td>\n",
       "      <td>2.19</td>\n",
       "      <td>19.5</td>\n",
       "      <td>88.0</td>\n",
       "      <td>1.62</td>\n",
       "      <td>0.48</td>\n",
       "      <td>0.58</td>\n",
       "      <td>0.88</td>\n",
       "      <td>5.70</td>\n",
       "      <td>0.81</td>\n",
       "      <td>1.82</td>\n",
       "      <td>580.0</td>\n",
       "    </tr>\n",
       "    <tr>\n",
       "      <th>109</th>\n",
       "      <td>11.61</td>\n",
       "      <td>1.35</td>\n",
       "      <td>2.70</td>\n",
       "      <td>20.0</td>\n",
       "      <td>94.0</td>\n",
       "      <td>2.74</td>\n",
       "      <td>2.92</td>\n",
       "      <td>0.29</td>\n",
       "      <td>2.49</td>\n",
       "      <td>2.65</td>\n",
       "      <td>0.96</td>\n",
       "      <td>3.26</td>\n",
       "      <td>680.0</td>\n",
       "    </tr>\n",
       "    <tr>\n",
       "      <th>116</th>\n",
       "      <td>11.82</td>\n",
       "      <td>1.47</td>\n",
       "      <td>1.99</td>\n",
       "      <td>20.8</td>\n",
       "      <td>86.0</td>\n",
       "      <td>1.98</td>\n",
       "      <td>1.60</td>\n",
       "      <td>0.30</td>\n",
       "      <td>1.53</td>\n",
       "      <td>1.95</td>\n",
       "      <td>0.95</td>\n",
       "      <td>3.33</td>\n",
       "      <td>495.0</td>\n",
       "    </tr>\n",
       "    <tr>\n",
       "      <th>114</th>\n",
       "      <td>12.08</td>\n",
       "      <td>1.39</td>\n",
       "      <td>2.50</td>\n",
       "      <td>22.5</td>\n",
       "      <td>84.0</td>\n",
       "      <td>2.56</td>\n",
       "      <td>2.29</td>\n",
       "      <td>0.43</td>\n",
       "      <td>1.04</td>\n",
       "      <td>2.90</td>\n",
       "      <td>0.93</td>\n",
       "      <td>3.19</td>\n",
       "      <td>385.0</td>\n",
       "    </tr>\n",
       "    <tr>\n",
       "      <th>113</th>\n",
       "      <td>11.41</td>\n",
       "      <td>0.74</td>\n",
       "      <td>2.50</td>\n",
       "      <td>21.0</td>\n",
       "      <td>88.0</td>\n",
       "      <td>2.48</td>\n",
       "      <td>2.01</td>\n",
       "      <td>0.42</td>\n",
       "      <td>1.44</td>\n",
       "      <td>3.08</td>\n",
       "      <td>1.10</td>\n",
       "      <td>2.31</td>\n",
       "      <td>434.0</td>\n",
       "    </tr>\n",
       "    <tr>\n",
       "      <th>170</th>\n",
       "      <td>12.20</td>\n",
       "      <td>3.03</td>\n",
       "      <td>2.32</td>\n",
       "      <td>19.0</td>\n",
       "      <td>96.0</td>\n",
       "      <td>1.25</td>\n",
       "      <td>0.49</td>\n",
       "      <td>0.40</td>\n",
       "      <td>0.73</td>\n",
       "      <td>5.50</td>\n",
       "      <td>0.66</td>\n",
       "      <td>1.83</td>\n",
       "      <td>510.0</td>\n",
       "    </tr>\n",
       "    <tr>\n",
       "      <th>123</th>\n",
       "      <td>13.05</td>\n",
       "      <td>5.80</td>\n",
       "      <td>2.13</td>\n",
       "      <td>21.5</td>\n",
       "      <td>86.0</td>\n",
       "      <td>2.62</td>\n",
       "      <td>2.65</td>\n",
       "      <td>0.30</td>\n",
       "      <td>2.01</td>\n",
       "      <td>2.60</td>\n",
       "      <td>0.73</td>\n",
       "      <td>3.10</td>\n",
       "      <td>380.0</td>\n",
       "    </tr>\n",
       "    <tr>\n",
       "      <th>1</th>\n",
       "      <td>13.20</td>\n",
       "      <td>1.78</td>\n",
       "      <td>2.14</td>\n",
       "      <td>11.2</td>\n",
       "      <td>100.0</td>\n",
       "      <td>2.65</td>\n",
       "      <td>2.76</td>\n",
       "      <td>0.26</td>\n",
       "      <td>1.28</td>\n",
       "      <td>4.38</td>\n",
       "      <td>1.05</td>\n",
       "      <td>3.40</td>\n",
       "      <td>1050.0</td>\n",
       "    </tr>\n",
       "  </tbody>\n",
       "</table>\n",
       "</div>"
      ],
      "text/plain": [
       "     alcohol  malic_acid   ash  alcalinity_of_ash  magnesium  total_phenols  \\\n",
       "111    12.52        2.43  2.17               21.0       88.0           2.55   \n",
       "0      14.23        1.71  2.43               15.6      127.0           2.80   \n",
       "138    13.49        3.59  2.19               19.5       88.0           1.62   \n",
       "109    11.61        1.35  2.70               20.0       94.0           2.74   \n",
       "116    11.82        1.47  1.99               20.8       86.0           1.98   \n",
       "114    12.08        1.39  2.50               22.5       84.0           2.56   \n",
       "113    11.41        0.74  2.50               21.0       88.0           2.48   \n",
       "170    12.20        3.03  2.32               19.0       96.0           1.25   \n",
       "123    13.05        5.80  2.13               21.5       86.0           2.62   \n",
       "1      13.20        1.78  2.14               11.2      100.0           2.65   \n",
       "\n",
       "     flavanoids  nonflavanoid_phenols  proanthocyanins  color_intensity   hue  \\\n",
       "111        2.27                  0.26             1.22             2.00  0.90   \n",
       "0          3.06                  0.28             2.29             5.64  1.04   \n",
       "138        0.48                  0.58             0.88             5.70  0.81   \n",
       "109        2.92                  0.29             2.49             2.65  0.96   \n",
       "116        1.60                  0.30             1.53             1.95  0.95   \n",
       "114        2.29                  0.43             1.04             2.90  0.93   \n",
       "113        2.01                  0.42             1.44             3.08  1.10   \n",
       "170        0.49                  0.40             0.73             5.50  0.66   \n",
       "123        2.65                  0.30             2.01             2.60  0.73   \n",
       "1          2.76                  0.26             1.28             4.38  1.05   \n",
       "\n",
       "     od280/od315_of_diluted_wines  proline  \n",
       "111                          2.78    325.0  \n",
       "0                            3.92   1065.0  \n",
       "138                          1.82    580.0  \n",
       "109                          3.26    680.0  \n",
       "116                          3.33    495.0  \n",
       "114                          3.19    385.0  \n",
       "113                          2.31    434.0  \n",
       "170                          1.83    510.0  \n",
       "123                          3.10    380.0  \n",
       "1                            3.40   1050.0  "
      ]
     },
     "execution_count": 5,
     "metadata": {},
     "output_type": "execute_result"
    }
   ],
   "source": [
    "df_x.sample(10)"
   ]
  },
  {
   "cell_type": "code",
   "execution_count": 6,
   "id": "a4094a16",
   "metadata": {},
   "outputs": [
    {
     "data": {
      "text/plain": [
       "target\n",
       "1         71\n",
       "0         59\n",
       "2         48\n",
       "dtype: int64"
      ]
     },
     "execution_count": 6,
     "metadata": {},
     "output_type": "execute_result"
    }
   ],
   "source": [
    "y.value_counts()"
   ]
  },
  {
   "cell_type": "markdown",
   "id": "66c39b95",
   "metadata": {},
   "source": [
    "# This dataset is for Multiclass classification problem."
   ]
  },
  {
   "cell_type": "markdown",
   "id": "b57b7f64",
   "metadata": {},
   "source": [
    "# Feature Selection types:\n",
    "## 1.Filter Method\n",
    "### 1.1 Co-relation"
   ]
  },
  {
   "cell_type": "markdown",
   "id": "a3f992e2",
   "metadata": {},
   "source": [
    "# filter method used before modeling"
   ]
  },
  {
   "cell_type": "code",
   "execution_count": 7,
   "id": "aabaa503",
   "metadata": {},
   "outputs": [
    {
     "data": {
      "text/html": [
       "<div>\n",
       "<style scoped>\n",
       "    .dataframe tbody tr th:only-of-type {\n",
       "        vertical-align: middle;\n",
       "    }\n",
       "\n",
       "    .dataframe tbody tr th {\n",
       "        vertical-align: top;\n",
       "    }\n",
       "\n",
       "    .dataframe thead th {\n",
       "        text-align: right;\n",
       "    }\n",
       "</style>\n",
       "<table border=\"1\" class=\"dataframe\">\n",
       "  <thead>\n",
       "    <tr style=\"text-align: right;\">\n",
       "      <th></th>\n",
       "      <th>alcohol</th>\n",
       "      <th>malic_acid</th>\n",
       "      <th>ash</th>\n",
       "      <th>alcalinity_of_ash</th>\n",
       "      <th>magnesium</th>\n",
       "      <th>total_phenols</th>\n",
       "      <th>flavanoids</th>\n",
       "      <th>nonflavanoid_phenols</th>\n",
       "      <th>proanthocyanins</th>\n",
       "      <th>color_intensity</th>\n",
       "      <th>hue</th>\n",
       "      <th>od280/od315_of_diluted_wines</th>\n",
       "      <th>proline</th>\n",
       "    </tr>\n",
       "  </thead>\n",
       "  <tbody>\n",
       "    <tr>\n",
       "      <th>alcohol</th>\n",
       "      <td>1.000000</td>\n",
       "      <td>0.094397</td>\n",
       "      <td>0.211545</td>\n",
       "      <td>-0.310235</td>\n",
       "      <td>0.270798</td>\n",
       "      <td>0.289101</td>\n",
       "      <td>0.236815</td>\n",
       "      <td>-0.155929</td>\n",
       "      <td>0.136698</td>\n",
       "      <td>0.546364</td>\n",
       "      <td>-0.071747</td>\n",
       "      <td>0.072343</td>\n",
       "      <td>0.643720</td>\n",
       "    </tr>\n",
       "    <tr>\n",
       "      <th>malic_acid</th>\n",
       "      <td>0.094397</td>\n",
       "      <td>1.000000</td>\n",
       "      <td>0.164045</td>\n",
       "      <td>0.288500</td>\n",
       "      <td>-0.054575</td>\n",
       "      <td>-0.335167</td>\n",
       "      <td>-0.411007</td>\n",
       "      <td>0.292977</td>\n",
       "      <td>-0.220746</td>\n",
       "      <td>0.248985</td>\n",
       "      <td>-0.561296</td>\n",
       "      <td>-0.368710</td>\n",
       "      <td>-0.192011</td>\n",
       "    </tr>\n",
       "    <tr>\n",
       "      <th>ash</th>\n",
       "      <td>0.211545</td>\n",
       "      <td>0.164045</td>\n",
       "      <td>1.000000</td>\n",
       "      <td>0.443367</td>\n",
       "      <td>0.286587</td>\n",
       "      <td>0.128980</td>\n",
       "      <td>0.115077</td>\n",
       "      <td>0.186230</td>\n",
       "      <td>0.009652</td>\n",
       "      <td>0.258887</td>\n",
       "      <td>-0.074667</td>\n",
       "      <td>0.003911</td>\n",
       "      <td>0.223626</td>\n",
       "    </tr>\n",
       "    <tr>\n",
       "      <th>alcalinity_of_ash</th>\n",
       "      <td>-0.310235</td>\n",
       "      <td>0.288500</td>\n",
       "      <td>0.443367</td>\n",
       "      <td>1.000000</td>\n",
       "      <td>-0.083333</td>\n",
       "      <td>-0.321113</td>\n",
       "      <td>-0.351370</td>\n",
       "      <td>0.361922</td>\n",
       "      <td>-0.197327</td>\n",
       "      <td>0.018732</td>\n",
       "      <td>-0.273955</td>\n",
       "      <td>-0.276769</td>\n",
       "      <td>-0.440597</td>\n",
       "    </tr>\n",
       "    <tr>\n",
       "      <th>magnesium</th>\n",
       "      <td>0.270798</td>\n",
       "      <td>-0.054575</td>\n",
       "      <td>0.286587</td>\n",
       "      <td>-0.083333</td>\n",
       "      <td>1.000000</td>\n",
       "      <td>0.214401</td>\n",
       "      <td>0.195784</td>\n",
       "      <td>-0.256294</td>\n",
       "      <td>0.236441</td>\n",
       "      <td>0.199950</td>\n",
       "      <td>0.055398</td>\n",
       "      <td>0.066004</td>\n",
       "      <td>0.393351</td>\n",
       "    </tr>\n",
       "    <tr>\n",
       "      <th>total_phenols</th>\n",
       "      <td>0.289101</td>\n",
       "      <td>-0.335167</td>\n",
       "      <td>0.128980</td>\n",
       "      <td>-0.321113</td>\n",
       "      <td>0.214401</td>\n",
       "      <td>1.000000</td>\n",
       "      <td>0.864564</td>\n",
       "      <td>-0.449935</td>\n",
       "      <td>0.612413</td>\n",
       "      <td>-0.055136</td>\n",
       "      <td>0.433681</td>\n",
       "      <td>0.699949</td>\n",
       "      <td>0.498115</td>\n",
       "    </tr>\n",
       "    <tr>\n",
       "      <th>flavanoids</th>\n",
       "      <td>0.236815</td>\n",
       "      <td>-0.411007</td>\n",
       "      <td>0.115077</td>\n",
       "      <td>-0.351370</td>\n",
       "      <td>0.195784</td>\n",
       "      <td>0.864564</td>\n",
       "      <td>1.000000</td>\n",
       "      <td>-0.537900</td>\n",
       "      <td>0.652692</td>\n",
       "      <td>-0.172379</td>\n",
       "      <td>0.543479</td>\n",
       "      <td>0.787194</td>\n",
       "      <td>0.494193</td>\n",
       "    </tr>\n",
       "    <tr>\n",
       "      <th>nonflavanoid_phenols</th>\n",
       "      <td>-0.155929</td>\n",
       "      <td>0.292977</td>\n",
       "      <td>0.186230</td>\n",
       "      <td>0.361922</td>\n",
       "      <td>-0.256294</td>\n",
       "      <td>-0.449935</td>\n",
       "      <td>-0.537900</td>\n",
       "      <td>1.000000</td>\n",
       "      <td>-0.365845</td>\n",
       "      <td>0.139057</td>\n",
       "      <td>-0.262640</td>\n",
       "      <td>-0.503270</td>\n",
       "      <td>-0.311385</td>\n",
       "    </tr>\n",
       "    <tr>\n",
       "      <th>proanthocyanins</th>\n",
       "      <td>0.136698</td>\n",
       "      <td>-0.220746</td>\n",
       "      <td>0.009652</td>\n",
       "      <td>-0.197327</td>\n",
       "      <td>0.236441</td>\n",
       "      <td>0.612413</td>\n",
       "      <td>0.652692</td>\n",
       "      <td>-0.365845</td>\n",
       "      <td>1.000000</td>\n",
       "      <td>-0.025250</td>\n",
       "      <td>0.295544</td>\n",
       "      <td>0.519067</td>\n",
       "      <td>0.330417</td>\n",
       "    </tr>\n",
       "    <tr>\n",
       "      <th>color_intensity</th>\n",
       "      <td>0.546364</td>\n",
       "      <td>0.248985</td>\n",
       "      <td>0.258887</td>\n",
       "      <td>0.018732</td>\n",
       "      <td>0.199950</td>\n",
       "      <td>-0.055136</td>\n",
       "      <td>-0.172379</td>\n",
       "      <td>0.139057</td>\n",
       "      <td>-0.025250</td>\n",
       "      <td>1.000000</td>\n",
       "      <td>-0.521813</td>\n",
       "      <td>-0.428815</td>\n",
       "      <td>0.316100</td>\n",
       "    </tr>\n",
       "    <tr>\n",
       "      <th>hue</th>\n",
       "      <td>-0.071747</td>\n",
       "      <td>-0.561296</td>\n",
       "      <td>-0.074667</td>\n",
       "      <td>-0.273955</td>\n",
       "      <td>0.055398</td>\n",
       "      <td>0.433681</td>\n",
       "      <td>0.543479</td>\n",
       "      <td>-0.262640</td>\n",
       "      <td>0.295544</td>\n",
       "      <td>-0.521813</td>\n",
       "      <td>1.000000</td>\n",
       "      <td>0.565468</td>\n",
       "      <td>0.236183</td>\n",
       "    </tr>\n",
       "    <tr>\n",
       "      <th>od280/od315_of_diluted_wines</th>\n",
       "      <td>0.072343</td>\n",
       "      <td>-0.368710</td>\n",
       "      <td>0.003911</td>\n",
       "      <td>-0.276769</td>\n",
       "      <td>0.066004</td>\n",
       "      <td>0.699949</td>\n",
       "      <td>0.787194</td>\n",
       "      <td>-0.503270</td>\n",
       "      <td>0.519067</td>\n",
       "      <td>-0.428815</td>\n",
       "      <td>0.565468</td>\n",
       "      <td>1.000000</td>\n",
       "      <td>0.312761</td>\n",
       "    </tr>\n",
       "    <tr>\n",
       "      <th>proline</th>\n",
       "      <td>0.643720</td>\n",
       "      <td>-0.192011</td>\n",
       "      <td>0.223626</td>\n",
       "      <td>-0.440597</td>\n",
       "      <td>0.393351</td>\n",
       "      <td>0.498115</td>\n",
       "      <td>0.494193</td>\n",
       "      <td>-0.311385</td>\n",
       "      <td>0.330417</td>\n",
       "      <td>0.316100</td>\n",
       "      <td>0.236183</td>\n",
       "      <td>0.312761</td>\n",
       "      <td>1.000000</td>\n",
       "    </tr>\n",
       "  </tbody>\n",
       "</table>\n",
       "</div>"
      ],
      "text/plain": [
       "                               alcohol  malic_acid       ash  \\\n",
       "alcohol                       1.000000    0.094397  0.211545   \n",
       "malic_acid                    0.094397    1.000000  0.164045   \n",
       "ash                           0.211545    0.164045  1.000000   \n",
       "alcalinity_of_ash            -0.310235    0.288500  0.443367   \n",
       "magnesium                     0.270798   -0.054575  0.286587   \n",
       "total_phenols                 0.289101   -0.335167  0.128980   \n",
       "flavanoids                    0.236815   -0.411007  0.115077   \n",
       "nonflavanoid_phenols         -0.155929    0.292977  0.186230   \n",
       "proanthocyanins               0.136698   -0.220746  0.009652   \n",
       "color_intensity               0.546364    0.248985  0.258887   \n",
       "hue                          -0.071747   -0.561296 -0.074667   \n",
       "od280/od315_of_diluted_wines  0.072343   -0.368710  0.003911   \n",
       "proline                       0.643720   -0.192011  0.223626   \n",
       "\n",
       "                              alcalinity_of_ash  magnesium  total_phenols  \\\n",
       "alcohol                               -0.310235   0.270798       0.289101   \n",
       "malic_acid                             0.288500  -0.054575      -0.335167   \n",
       "ash                                    0.443367   0.286587       0.128980   \n",
       "alcalinity_of_ash                      1.000000  -0.083333      -0.321113   \n",
       "magnesium                             -0.083333   1.000000       0.214401   \n",
       "total_phenols                         -0.321113   0.214401       1.000000   \n",
       "flavanoids                            -0.351370   0.195784       0.864564   \n",
       "nonflavanoid_phenols                   0.361922  -0.256294      -0.449935   \n",
       "proanthocyanins                       -0.197327   0.236441       0.612413   \n",
       "color_intensity                        0.018732   0.199950      -0.055136   \n",
       "hue                                   -0.273955   0.055398       0.433681   \n",
       "od280/od315_of_diluted_wines          -0.276769   0.066004       0.699949   \n",
       "proline                               -0.440597   0.393351       0.498115   \n",
       "\n",
       "                              flavanoids  nonflavanoid_phenols  \\\n",
       "alcohol                         0.236815             -0.155929   \n",
       "malic_acid                     -0.411007              0.292977   \n",
       "ash                             0.115077              0.186230   \n",
       "alcalinity_of_ash              -0.351370              0.361922   \n",
       "magnesium                       0.195784             -0.256294   \n",
       "total_phenols                   0.864564             -0.449935   \n",
       "flavanoids                      1.000000             -0.537900   \n",
       "nonflavanoid_phenols           -0.537900              1.000000   \n",
       "proanthocyanins                 0.652692             -0.365845   \n",
       "color_intensity                -0.172379              0.139057   \n",
       "hue                             0.543479             -0.262640   \n",
       "od280/od315_of_diluted_wines    0.787194             -0.503270   \n",
       "proline                         0.494193             -0.311385   \n",
       "\n",
       "                              proanthocyanins  color_intensity       hue  \\\n",
       "alcohol                              0.136698         0.546364 -0.071747   \n",
       "malic_acid                          -0.220746         0.248985 -0.561296   \n",
       "ash                                  0.009652         0.258887 -0.074667   \n",
       "alcalinity_of_ash                   -0.197327         0.018732 -0.273955   \n",
       "magnesium                            0.236441         0.199950  0.055398   \n",
       "total_phenols                        0.612413        -0.055136  0.433681   \n",
       "flavanoids                           0.652692        -0.172379  0.543479   \n",
       "nonflavanoid_phenols                -0.365845         0.139057 -0.262640   \n",
       "proanthocyanins                      1.000000        -0.025250  0.295544   \n",
       "color_intensity                     -0.025250         1.000000 -0.521813   \n",
       "hue                                  0.295544        -0.521813  1.000000   \n",
       "od280/od315_of_diluted_wines         0.519067        -0.428815  0.565468   \n",
       "proline                              0.330417         0.316100  0.236183   \n",
       "\n",
       "                              od280/od315_of_diluted_wines   proline  \n",
       "alcohol                                           0.072343  0.643720  \n",
       "malic_acid                                       -0.368710 -0.192011  \n",
       "ash                                               0.003911  0.223626  \n",
       "alcalinity_of_ash                                -0.276769 -0.440597  \n",
       "magnesium                                         0.066004  0.393351  \n",
       "total_phenols                                     0.699949  0.498115  \n",
       "flavanoids                                        0.787194  0.494193  \n",
       "nonflavanoid_phenols                             -0.503270 -0.311385  \n",
       "proanthocyanins                                   0.519067  0.330417  \n",
       "color_intensity                                  -0.428815  0.316100  \n",
       "hue                                               0.565468  0.236183  \n",
       "od280/od315_of_diluted_wines                      1.000000  0.312761  \n",
       "proline                                           0.312761  1.000000  "
      ]
     },
     "execution_count": 7,
     "metadata": {},
     "output_type": "execute_result"
    }
   ],
   "source": [
    "# Pearson Correlation Coefficient(Contineous vs Contineous)\n",
    "df_x.corr()"
   ]
  },
  {
   "cell_type": "code",
   "execution_count": 8,
   "id": "7d37eb2a",
   "metadata": {
    "scrolled": true
   },
   "outputs": [
    {
     "data": {
      "text/plain": [
       "<AxesSubplot:>"
      ]
     },
     "execution_count": 8,
     "metadata": {},
     "output_type": "execute_result"
    },
    {
     "data": {
      "image/png": "[encoded data removed]",
      "text/plain": [
       "<Figure size 1080x360 with 2 Axes>"
      ]
     },
     "metadata": {
      "needs_background": "light"
     },
     "output_type": "display_data"
    }
   ],
   "source": [
    "plt.figure(figsize=(15,5))\n",
    "sns.heatmap(df_x.corr(),annot=True)"
   ]
  },
  {
   "cell_type": "code",
   "execution_count": 9,
   "id": "13ee1fed",
   "metadata": {},
   "outputs": [],
   "source": [
    "def Strong_corelation(data,thresh):\n",
    "    setm=set()   # taken set so there \n",
    "    correlation_matrix=data.corr()\n",
    "    for i in range(len(correlation_matrix.columns)):\n",
    "        for j in range(i):\n",
    "            if abs(correlation_matrix.iloc[i,j])>thresh:\n",
    "                colname=correlation_matrix.columns[i]\n",
    "                setm.add(colname)\n",
    "    return setm"
   ]
  },
  {
   "cell_type": "code",
   "execution_count": 10,
   "id": "21733b02",
   "metadata": {},
   "outputs": [
    {
     "data": {
      "text/plain": [
       "{'flavanoids', 'od280/od315_of_diluted_wines'}"
      ]
     },
     "execution_count": 10,
     "metadata": {},
     "output_type": "execute_result"
    }
   ],
   "source": [
    "Strong_corelation(df_x,0.7)"
   ]
  },
  {
   "cell_type": "code",
   "execution_count": 11,
   "id": "e13c526c",
   "metadata": {},
   "outputs": [],
   "source": [
    "def randomdistributed_corelation(data,thresh):\n",
    "    setm=set()   # taken set so there \n",
    "    correlation_matrix=data.corr()\n",
    "    for i in range(len(correlation_matrix.columns)):\n",
    "        for j in range(i):\n",
    "            if abs(correlation_matrix.iloc[i,j])<thresh:\n",
    "                colname=correlation_matrix.columns[i]\n",
    "                setm.add(colname)\n",
    "    return setm"
   ]
  },
  {
   "cell_type": "code",
   "execution_count": 12,
   "id": "acd21b74",
   "metadata": {},
   "outputs": [
    {
     "data": {
      "text/plain": [
       "{'alcalinity_of_ash',\n",
       " 'ash',\n",
       " 'color_intensity',\n",
       " 'flavanoids',\n",
       " 'hue',\n",
       " 'magnesium',\n",
       " 'malic_acid',\n",
       " 'nonflavanoid_phenols',\n",
       " 'od280/od315_of_diluted_wines',\n",
       " 'proanthocyanins',\n",
       " 'proline',\n",
       " 'total_phenols'}"
      ]
     },
     "execution_count": 12,
     "metadata": {},
     "output_type": "execute_result"
    }
   ],
   "source": [
    "randomdistributed_corelation(df_x,0.3)"
   ]
  },
  {
   "cell_type": "code",
   "execution_count": 13,
   "id": "bcc63d04",
   "metadata": {},
   "outputs": [
    {
     "data": {
      "text/plain": [
       "13"
      ]
     },
     "execution_count": 13,
     "metadata": {},
     "output_type": "execute_result"
    }
   ],
   "source": [
    "len(df_x.columns)"
   ]
  },
  {
   "cell_type": "code",
   "execution_count": 14,
   "id": "575f7b63",
   "metadata": {},
   "outputs": [
    {
     "data": {
      "text/plain": [
       "12"
      ]
     },
     "execution_count": 14,
     "metadata": {},
     "output_type": "execute_result"
    }
   ],
   "source": [
    "len(randomdistributed_corelation(df_x,0.3))"
   ]
  },
  {
   "cell_type": "markdown",
   "id": "ff5e5259",
   "metadata": {},
   "source": [
    "# 2 features are there in our dataset which are aboeying our linearity assumption of no multicollinearity."
   ]
  },
  {
   "cell_type": "code",
   "execution_count": 15,
   "id": "c7e59c0e",
   "metadata": {},
   "outputs": [
    {
     "data": {
      "text/plain": [
       "0      14.23\n",
       "1      13.20\n",
       "2      13.16\n",
       "3      14.37\n",
       "4      13.24\n",
       "       ...  \n",
       "173    13.71\n",
       "174    13.40\n",
       "175    13.27\n",
       "176    13.17\n",
       "177    14.13\n",
       "Name: alcohol, Length: 178, dtype: float64"
      ]
     },
     "execution_count": 15,
     "metadata": {},
     "output_type": "execute_result"
    }
   ],
   "source": [
    "df_x['alcohol']"
   ]
  },
  {
   "cell_type": "raw",
   "id": "12ab0a4e",
   "metadata": {},
   "source": [
    " Correlation:\n",
    "        1.1 Pearson Correlation Coefficient(Cont vs Cont)\n",
    "        1.2 Spearman Correlation Coefficient(Cont vs Cont)\n",
    "        1.3 Kendall Correlation Coefficient (Cat vs Cont)"
   ]
  },
  {
   "cell_type": "markdown",
   "id": "0ad641ea",
   "metadata": {},
   "source": [
    "# Default Correlation in python is Pearson Correlation Coefficient(Cont vs Cont)"
   ]
  },
  {
   "cell_type": "code",
   "execution_count": 16,
   "id": "84da891d",
   "metadata": {},
   "outputs": [
    {
     "data": {
      "text/html": [
       "<div>\n",
       "<style scoped>\n",
       "    .dataframe tbody tr th:only-of-type {\n",
       "        vertical-align: middle;\n",
       "    }\n",
       "\n",
       "    .dataframe tbody tr th {\n",
       "        vertical-align: top;\n",
       "    }\n",
       "\n",
       "    .dataframe thead th {\n",
       "        text-align: right;\n",
       "    }\n",
       "</style>\n",
       "<table border=\"1\" class=\"dataframe\">\n",
       "  <thead>\n",
       "    <tr style=\"text-align: right;\">\n",
       "      <th></th>\n",
       "      <th>alcohol</th>\n",
       "      <th>malic_acid</th>\n",
       "      <th>ash</th>\n",
       "      <th>alcalinity_of_ash</th>\n",
       "      <th>magnesium</th>\n",
       "      <th>total_phenols</th>\n",
       "      <th>flavanoids</th>\n",
       "      <th>nonflavanoid_phenols</th>\n",
       "      <th>proanthocyanins</th>\n",
       "      <th>color_intensity</th>\n",
       "      <th>hue</th>\n",
       "      <th>od280/od315_of_diluted_wines</th>\n",
       "      <th>proline</th>\n",
       "    </tr>\n",
       "  </thead>\n",
       "  <tbody>\n",
       "    <tr>\n",
       "      <th>alcohol</th>\n",
       "      <td>1.000000</td>\n",
       "      <td>0.140430</td>\n",
       "      <td>0.243722</td>\n",
       "      <td>-0.306598</td>\n",
       "      <td>0.365503</td>\n",
       "      <td>0.310920</td>\n",
       "      <td>0.294740</td>\n",
       "      <td>-0.162207</td>\n",
       "      <td>0.192734</td>\n",
       "      <td>0.635425</td>\n",
       "      <td>-0.024203</td>\n",
       "      <td>0.103050</td>\n",
       "      <td>0.633580</td>\n",
       "    </tr>\n",
       "    <tr>\n",
       "      <th>malic_acid</th>\n",
       "      <td>0.140430</td>\n",
       "      <td>1.000000</td>\n",
       "      <td>0.230674</td>\n",
       "      <td>0.304069</td>\n",
       "      <td>0.080188</td>\n",
       "      <td>-0.280225</td>\n",
       "      <td>-0.325202</td>\n",
       "      <td>0.255236</td>\n",
       "      <td>-0.244825</td>\n",
       "      <td>0.290307</td>\n",
       "      <td>-0.560265</td>\n",
       "      <td>-0.255185</td>\n",
       "      <td>-0.057466</td>\n",
       "    </tr>\n",
       "    <tr>\n",
       "      <th>ash</th>\n",
       "      <td>0.243722</td>\n",
       "      <td>0.230674</td>\n",
       "      <td>1.000000</td>\n",
       "      <td>0.366374</td>\n",
       "      <td>0.361488</td>\n",
       "      <td>0.132193</td>\n",
       "      <td>0.078796</td>\n",
       "      <td>0.145583</td>\n",
       "      <td>0.024384</td>\n",
       "      <td>0.283047</td>\n",
       "      <td>-0.050183</td>\n",
       "      <td>-0.007500</td>\n",
       "      <td>0.253163</td>\n",
       "    </tr>\n",
       "    <tr>\n",
       "      <th>alcalinity_of_ash</th>\n",
       "      <td>-0.306598</td>\n",
       "      <td>0.304069</td>\n",
       "      <td>0.366374</td>\n",
       "      <td>1.000000</td>\n",
       "      <td>-0.169558</td>\n",
       "      <td>-0.376657</td>\n",
       "      <td>-0.443770</td>\n",
       "      <td>0.389390</td>\n",
       "      <td>-0.253695</td>\n",
       "      <td>-0.073776</td>\n",
       "      <td>-0.352507</td>\n",
       "      <td>-0.325890</td>\n",
       "      <td>-0.456090</td>\n",
       "    </tr>\n",
       "    <tr>\n",
       "      <th>magnesium</th>\n",
       "      <td>0.365503</td>\n",
       "      <td>0.080188</td>\n",
       "      <td>0.361488</td>\n",
       "      <td>-0.169558</td>\n",
       "      <td>1.000000</td>\n",
       "      <td>0.246417</td>\n",
       "      <td>0.233167</td>\n",
       "      <td>-0.236786</td>\n",
       "      <td>0.173647</td>\n",
       "      <td>0.357029</td>\n",
       "      <td>0.036095</td>\n",
       "      <td>0.056963</td>\n",
       "      <td>0.507575</td>\n",
       "    </tr>\n",
       "    <tr>\n",
       "      <th>total_phenols</th>\n",
       "      <td>0.310920</td>\n",
       "      <td>-0.280225</td>\n",
       "      <td>0.132193</td>\n",
       "      <td>-0.376657</td>\n",
       "      <td>0.246417</td>\n",
       "      <td>1.000000</td>\n",
       "      <td>0.879404</td>\n",
       "      <td>-0.448013</td>\n",
       "      <td>0.666689</td>\n",
       "      <td>0.011162</td>\n",
       "      <td>0.439457</td>\n",
       "      <td>0.687207</td>\n",
       "      <td>0.419470</td>\n",
       "    </tr>\n",
       "    <tr>\n",
       "      <th>flavanoids</th>\n",
       "      <td>0.294740</td>\n",
       "      <td>-0.325202</td>\n",
       "      <td>0.078796</td>\n",
       "      <td>-0.443770</td>\n",
       "      <td>0.233167</td>\n",
       "      <td>0.879404</td>\n",
       "      <td>1.000000</td>\n",
       "      <td>-0.543897</td>\n",
       "      <td>0.730322</td>\n",
       "      <td>-0.042910</td>\n",
       "      <td>0.535430</td>\n",
       "      <td>0.741533</td>\n",
       "      <td>0.429904</td>\n",
       "    </tr>\n",
       "    <tr>\n",
       "      <th>nonflavanoid_phenols</th>\n",
       "      <td>-0.162207</td>\n",
       "      <td>0.255236</td>\n",
       "      <td>0.145583</td>\n",
       "      <td>0.389390</td>\n",
       "      <td>-0.236786</td>\n",
       "      <td>-0.448013</td>\n",
       "      <td>-0.543897</td>\n",
       "      <td>1.000000</td>\n",
       "      <td>-0.384629</td>\n",
       "      <td>0.059639</td>\n",
       "      <td>-0.267813</td>\n",
       "      <td>-0.494950</td>\n",
       "      <td>-0.270112</td>\n",
       "    </tr>\n",
       "    <tr>\n",
       "      <th>proanthocyanins</th>\n",
       "      <td>0.192734</td>\n",
       "      <td>-0.244825</td>\n",
       "      <td>0.024384</td>\n",
       "      <td>-0.253695</td>\n",
       "      <td>0.173647</td>\n",
       "      <td>0.666689</td>\n",
       "      <td>0.730322</td>\n",
       "      <td>-0.384629</td>\n",
       "      <td>1.000000</td>\n",
       "      <td>-0.030947</td>\n",
       "      <td>0.342795</td>\n",
       "      <td>0.554031</td>\n",
       "      <td>0.308249</td>\n",
       "    </tr>\n",
       "    <tr>\n",
       "      <th>color_intensity</th>\n",
       "      <td>0.635425</td>\n",
       "      <td>0.290307</td>\n",
       "      <td>0.283047</td>\n",
       "      <td>-0.073776</td>\n",
       "      <td>0.357029</td>\n",
       "      <td>0.011162</td>\n",
       "      <td>-0.042910</td>\n",
       "      <td>0.059639</td>\n",
       "      <td>-0.030947</td>\n",
       "      <td>1.000000</td>\n",
       "      <td>-0.418522</td>\n",
       "      <td>-0.317516</td>\n",
       "      <td>0.457096</td>\n",
       "    </tr>\n",
       "    <tr>\n",
       "      <th>hue</th>\n",
       "      <td>-0.024203</td>\n",
       "      <td>-0.560265</td>\n",
       "      <td>-0.050183</td>\n",
       "      <td>-0.352507</td>\n",
       "      <td>0.036095</td>\n",
       "      <td>0.439457</td>\n",
       "      <td>0.535430</td>\n",
       "      <td>-0.267813</td>\n",
       "      <td>0.342795</td>\n",
       "      <td>-0.418522</td>\n",
       "      <td>1.000000</td>\n",
       "      <td>0.485454</td>\n",
       "      <td>0.207740</td>\n",
       "    </tr>\n",
       "    <tr>\n",
       "      <th>od280/od315_of_diluted_wines</th>\n",
       "      <td>0.103050</td>\n",
       "      <td>-0.255185</td>\n",
       "      <td>-0.007500</td>\n",
       "      <td>-0.325890</td>\n",
       "      <td>0.056963</td>\n",
       "      <td>0.687207</td>\n",
       "      <td>0.741533</td>\n",
       "      <td>-0.494950</td>\n",
       "      <td>0.554031</td>\n",
       "      <td>-0.317516</td>\n",
       "      <td>0.485454</td>\n",
       "      <td>1.000000</td>\n",
       "      <td>0.253266</td>\n",
       "    </tr>\n",
       "    <tr>\n",
       "      <th>proline</th>\n",
       "      <td>0.633580</td>\n",
       "      <td>-0.057466</td>\n",
       "      <td>0.253163</td>\n",
       "      <td>-0.456090</td>\n",
       "      <td>0.507575</td>\n",
       "      <td>0.419470</td>\n",
       "      <td>0.429904</td>\n",
       "      <td>-0.270112</td>\n",
       "      <td>0.308249</td>\n",
       "      <td>0.457096</td>\n",
       "      <td>0.207740</td>\n",
       "      <td>0.253266</td>\n",
       "      <td>1.000000</td>\n",
       "    </tr>\n",
       "  </tbody>\n",
       "</table>\n",
       "</div>"
      ],
      "text/plain": [
       "                               alcohol  malic_acid       ash  \\\n",
       "alcohol                       1.000000    0.140430  0.243722   \n",
       "malic_acid                    0.140430    1.000000  0.230674   \n",
       "ash                           0.243722    0.230674  1.000000   \n",
       "alcalinity_of_ash            -0.306598    0.304069  0.366374   \n",
       "magnesium                     0.365503    0.080188  0.361488   \n",
       "total_phenols                 0.310920   -0.280225  0.132193   \n",
       "flavanoids                    0.294740   -0.325202  0.078796   \n",
       "nonflavanoid_phenols         -0.162207    0.255236  0.145583   \n",
       "proanthocyanins               0.192734   -0.244825  0.024384   \n",
       "color_intensity               0.635425    0.290307  0.283047   \n",
       "hue                          -0.024203   -0.560265 -0.050183   \n",
       "od280/od315_of_diluted_wines  0.103050   -0.255185 -0.007500   \n",
       "proline                       0.633580   -0.057466  0.253163   \n",
       "\n",
       "                              alcalinity_of_ash  magnesium  total_phenols  \\\n",
       "alcohol                               -0.306598   0.365503       0.310920   \n",
       "malic_acid                             0.304069   0.080188      -0.280225   \n",
       "ash                                    0.366374   0.361488       0.132193   \n",
       "alcalinity_of_ash                      1.000000  -0.169558      -0.376657   \n",
       "magnesium                             -0.169558   1.000000       0.246417   \n",
       "total_phenols                         -0.376657   0.246417       1.000000   \n",
       "flavanoids                            -0.443770   0.233167       0.879404   \n",
       "nonflavanoid_phenols                   0.389390  -0.236786      -0.448013   \n",
       "proanthocyanins                       -0.253695   0.173647       0.666689   \n",
       "color_intensity                       -0.073776   0.357029       0.011162   \n",
       "hue                                   -0.352507   0.036095       0.439457   \n",
       "od280/od315_of_diluted_wines          -0.325890   0.056963       0.687207   \n",
       "proline                               -0.456090   0.507575       0.419470   \n",
       "\n",
       "                              flavanoids  nonflavanoid_phenols  \\\n",
       "alcohol                         0.294740             -0.162207   \n",
       "malic_acid                     -0.325202              0.255236   \n",
       "ash                             0.078796              0.145583   \n",
       "alcalinity_of_ash              -0.443770              0.389390   \n",
       "magnesium                       0.233167             -0.236786   \n",
       "total_phenols                   0.879404             -0.448013   \n",
       "flavanoids                      1.000000             -0.543897   \n",
       "nonflavanoid_phenols           -0.543897              1.000000   \n",
       "proanthocyanins                 0.730322             -0.384629   \n",
       "color_intensity                -0.042910              0.059639   \n",
       "hue                             0.535430             -0.267813   \n",
       "od280/od315_of_diluted_wines    0.741533             -0.494950   \n",
       "proline                         0.429904             -0.270112   \n",
       "\n",
       "                              proanthocyanins  color_intensity       hue  \\\n",
       "alcohol                              0.192734         0.635425 -0.024203   \n",
       "malic_acid                          -0.244825         0.290307 -0.560265   \n",
       "ash                                  0.024384         0.283047 -0.050183   \n",
       "alcalinity_of_ash                   -0.253695        -0.073776 -0.352507   \n",
       "magnesium                            0.173647         0.357029  0.036095   \n",
       "total_phenols                        0.666689         0.011162  0.439457   \n",
       "flavanoids                           0.730322        -0.042910  0.535430   \n",
       "nonflavanoid_phenols                -0.384629         0.059639 -0.267813   \n",
       "proanthocyanins                      1.000000        -0.030947  0.342795   \n",
       "color_intensity                     -0.030947         1.000000 -0.418522   \n",
       "hue                                  0.342795        -0.418522  1.000000   \n",
       "od280/od315_of_diluted_wines         0.554031        -0.317516  0.485454   \n",
       "proline                              0.308249         0.457096  0.207740   \n",
       "\n",
       "                              od280/od315_of_diluted_wines   proline  \n",
       "alcohol                                           0.103050  0.633580  \n",
       "malic_acid                                       -0.255185 -0.057466  \n",
       "ash                                              -0.007500  0.253163  \n",
       "alcalinity_of_ash                                -0.325890 -0.456090  \n",
       "magnesium                                         0.056963  0.507575  \n",
       "total_phenols                                     0.687207  0.419470  \n",
       "flavanoids                                        0.741533  0.429904  \n",
       "nonflavanoid_phenols                             -0.494950 -0.270112  \n",
       "proanthocyanins                                   0.554031  0.308249  \n",
       "color_intensity                                  -0.317516  0.457096  \n",
       "hue                                               0.485454  0.207740  \n",
       "od280/od315_of_diluted_wines                      1.000000  0.253266  \n",
       "proline                                           0.253266  1.000000  "
      ]
     },
     "execution_count": 16,
     "metadata": {},
     "output_type": "execute_result"
    }
   ],
   "source": [
    "df_x.corr(method='spearman')"
   ]
  },
  {
   "cell_type": "code",
   "execution_count": 17,
   "id": "442b2fb4",
   "metadata": {
    "scrolled": true
   },
   "outputs": [
    {
     "data": {
      "text/plain": [
       "<AxesSubplot:>"
      ]
     },
     "execution_count": 17,
     "metadata": {},
     "output_type": "execute_result"
    },
    {
     "data": {
      "image/png": "[encoded data removed]",
      "text/plain": [
       "<Figure size 1080x360 with 2 Axes>"
      ]
     },
     "metadata": {
      "needs_background": "light"
     },
     "output_type": "display_data"
    }
   ],
   "source": [
    "plt.figure(figsize=(15,5))\n",
    "sns.heatmap(df_x.corr(method='spearman'),annot=True)"
   ]
  },
  {
   "cell_type": "code",
   "execution_count": null,
   "id": "9b82effd",
   "metadata": {},
   "outputs": [],
   "source": []
  },
  {
   "cell_type": "code",
   "execution_count": 18,
   "id": "abdbb9d1",
   "metadata": {},
   "outputs": [],
   "source": [
    "def Strong_corelation(data,thresh):\n",
    "    setm=set()   # taken set so there \n",
    "    correlation_matrix=data.corr()\n",
    "    for i in range(len(correlation_matrix.columns)):\n",
    "        for j in range(i):\n",
    "            if abs(correlation_matrix.iloc[i,j])>thresh:\n",
    "                colname=correlation_matrix.columns[i]\n",
    "                setm.add(colname)\n",
    "    return setm"
   ]
  },
  {
   "cell_type": "code",
   "execution_count": 19,
   "id": "b30dbbef",
   "metadata": {},
   "outputs": [
    {
     "data": {
      "text/plain": [
       "{'flavanoids', 'od280/od315_of_diluted_wines'}"
      ]
     },
     "execution_count": 19,
     "metadata": {},
     "output_type": "execute_result"
    }
   ],
   "source": [
    "Strong_corelation(df_x,0.7)"
   ]
  },
  {
   "cell_type": "code",
   "execution_count": 20,
   "id": "fd085cac",
   "metadata": {},
   "outputs": [],
   "source": [
    "def Strong_corelation_min(data,thresh):\n",
    "    setm=set()   # taken set so there \n",
    "    correlation_matrix=data.corr()\n",
    "    for i in range(len(correlation_matrix.columns)):\n",
    "        for j in range(i):\n",
    "            if abs(correlation_matrix.iloc[i,j])<thresh:\n",
    "                colname=correlation_matrix.columns[i]\n",
    "                setm.add(colname)\n",
    "    return setm"
   ]
  },
  {
   "cell_type": "code",
   "execution_count": 21,
   "id": "cbf26d00",
   "metadata": {
    "scrolled": true
   },
   "outputs": [
    {
     "data": {
      "text/plain": [
       "{'alcalinity_of_ash',\n",
       " 'ash',\n",
       " 'color_intensity',\n",
       " 'flavanoids',\n",
       " 'hue',\n",
       " 'magnesium',\n",
       " 'malic_acid',\n",
       " 'nonflavanoid_phenols',\n",
       " 'od280/od315_of_diluted_wines',\n",
       " 'proanthocyanins',\n",
       " 'proline',\n",
       " 'total_phenols'}"
      ]
     },
     "execution_count": 21,
     "metadata": {},
     "output_type": "execute_result"
    }
   ],
   "source": [
    "Strong_corelation_min(df_x,0.3)"
   ]
  },
  {
   "cell_type": "code",
   "execution_count": 22,
   "id": "8ecf85e6",
   "metadata": {},
   "outputs": [
    {
     "data": {
      "text/plain": [
       "1"
      ]
     },
     "execution_count": 22,
     "metadata": {},
     "output_type": "execute_result"
    }
   ],
   "source": [
    "len(df_x.columns)-len(Strong_corelation_min(df_x,0.3))"
   ]
  },
  {
   "cell_type": "markdown",
   "id": "6f266271",
   "metadata": {},
   "source": [
    "### Pearson correlation coefficients measure only linear relationships.\n",
    "### Spearman correlation coefficients measure only monotonic relationships."
   ]
  },
  {
   "attachments": {
    "image-2.png": {
     "image/png": "[encoded data removed]"
    }
   },
   "cell_type": "markdown",
   "id": "766f8440",
   "metadata": {},
   "source": [
    "![image-2.png](attachment:image-2.png)"
   ]
  },
  {
   "cell_type": "markdown",
   "id": "79bf03a2",
   "metadata": {},
   "source": [
    "# 1.3 Kendall Correlation Coefficient (Cat vs Cont)"
   ]
  },
  {
   "cell_type": "markdown",
   "id": "ce79d778",
   "metadata": {},
   "source": [
    "# 2. Information Gain (Mutual Information)"
   ]
  },
  {
   "cell_type": "code",
   "execution_count": 23,
   "id": "81c79484",
   "metadata": {},
   "outputs": [],
   "source": [
    "# entropy is needen to be minimum as entropy is measure of impurity.\n",
    "# Information Gain is reduction in entropy meance we need highest I.G value to select feature."
   ]
  },
  {
   "cell_type": "code",
   "execution_count": 24,
   "id": "fae80502",
   "metadata": {},
   "outputs": [],
   "source": [
    "from sklearn.feature_selection import mutual_info_classif,mutual_info_regression"
   ]
  },
  {
   "cell_type": "code",
   "execution_count": 25,
   "id": "5929ee04",
   "metadata": {},
   "outputs": [
    {
     "name": "stderr",
     "output_type": "stream",
     "text": [
      "C:\\ProgramData\\Anaconda3\\lib\\site-packages\\sklearn\\utils\\validation.py:63: DataConversionWarning: A column-vector y was passed when a 1d array was expected. Please change the shape of y to (n_samples, ), for example using ravel().\n",
      "  return f(*args, **kwargs)\n"
     ]
    }
   ],
   "source": [
    "arr=mutual_info_regression(df_x,y)"
   ]
  },
  {
   "cell_type": "code",
   "execution_count": 26,
   "id": "eb0015da",
   "metadata": {},
   "outputs": [
    {
     "data": {
      "text/plain": [
       "<AxesSubplot:>"
      ]
     },
     "execution_count": 26,
     "metadata": {},
     "output_type": "execute_result"
    },
    {
     "data": {
      "image/png": "[encoded data removed]",
      "text/plain": [
       "<Figure size 1080x360 with 1 Axes>"
      ]
     },
     "metadata": {
      "needs_background": "light"
     },
     "output_type": "display_data"
    }
   ],
   "source": [
    "s1=pd.Series(arr,index=df_x.columns)\n",
    "plt.figure(figsize=(15,5))\n",
    "s1.sort_values().plot(kind='bar')"
   ]
  },
  {
   "cell_type": "markdown",
   "id": "a0d25aac",
   "metadata": {},
   "source": [
    "# 3. Fishers Score"
   ]
  },
  {
   "cell_type": "code",
   "execution_count": 27,
   "id": "42cc298d",
   "metadata": {},
   "outputs": [],
   "source": [
    "#It will return rank of variable on fishers score \n",
    "\n",
    "#need to install skfeature library \n",
    "#pip install skfeature-chappers\n",
    "\n",
    "df=pd.read_csv('wine.csv')"
   ]
  },
  {
   "cell_type": "markdown",
   "id": "1a18b230",
   "metadata": {},
   "source": [
    "# •\tIt will return rank of variable on fishers score \n",
    "# •\tIt will return the Rank – Higher Rank"
   ]
  },
  {
   "cell_type": "code",
   "execution_count": 28,
   "id": "f7480379",
   "metadata": {},
   "outputs": [],
   "source": [
    "# from skfeature.function.similarity_based import fisher_score"
   ]
  },
  {
   "cell_type": "code",
   "execution_count": 29,
   "id": "8ff610a1",
   "metadata": {},
   "outputs": [
    {
     "data": {
      "text/html": [
       "<div>\n",
       "<style scoped>\n",
       "    .dataframe tbody tr th:only-of-type {\n",
       "        vertical-align: middle;\n",
       "    }\n",
       "\n",
       "    .dataframe tbody tr th {\n",
       "        vertical-align: top;\n",
       "    }\n",
       "\n",
       "    .dataframe thead th {\n",
       "        text-align: right;\n",
       "    }\n",
       "</style>\n",
       "<table border=\"1\" class=\"dataframe\">\n",
       "  <thead>\n",
       "    <tr style=\"text-align: right;\">\n",
       "      <th></th>\n",
       "      <th>fixed acidity</th>\n",
       "      <th>volatile acidity</th>\n",
       "      <th>citric acid</th>\n",
       "      <th>residual sugar</th>\n",
       "      <th>chlorides</th>\n",
       "      <th>free sulfur dioxide</th>\n",
       "      <th>total sulfur dioxide</th>\n",
       "      <th>density</th>\n",
       "      <th>pH</th>\n",
       "      <th>sulphates</th>\n",
       "      <th>alcohol</th>\n",
       "      <th>quality</th>\n",
       "    </tr>\n",
       "  </thead>\n",
       "  <tbody>\n",
       "    <tr>\n",
       "      <th>634</th>\n",
       "      <td>7.9</td>\n",
       "      <td>0.350</td>\n",
       "      <td>0.21</td>\n",
       "      <td>1.9</td>\n",
       "      <td>0.073</td>\n",
       "      <td>46.0</td>\n",
       "      <td>102.0</td>\n",
       "      <td>0.99640</td>\n",
       "      <td>3.27</td>\n",
       "      <td>0.58</td>\n",
       "      <td>9.5</td>\n",
       "      <td>5</td>\n",
       "    </tr>\n",
       "    <tr>\n",
       "      <th>1204</th>\n",
       "      <td>7.2</td>\n",
       "      <td>0.360</td>\n",
       "      <td>0.46</td>\n",
       "      <td>2.1</td>\n",
       "      <td>0.074</td>\n",
       "      <td>24.0</td>\n",
       "      <td>44.0</td>\n",
       "      <td>0.99534</td>\n",
       "      <td>3.40</td>\n",
       "      <td>0.85</td>\n",
       "      <td>11.0</td>\n",
       "      <td>7</td>\n",
       "    </tr>\n",
       "    <tr>\n",
       "      <th>445</th>\n",
       "      <td>9.5</td>\n",
       "      <td>0.735</td>\n",
       "      <td>0.10</td>\n",
       "      <td>2.1</td>\n",
       "      <td>0.079</td>\n",
       "      <td>6.0</td>\n",
       "      <td>31.0</td>\n",
       "      <td>0.99860</td>\n",
       "      <td>3.23</td>\n",
       "      <td>0.56</td>\n",
       "      <td>10.1</td>\n",
       "      <td>6</td>\n",
       "    </tr>\n",
       "    <tr>\n",
       "      <th>491</th>\n",
       "      <td>9.2</td>\n",
       "      <td>0.410</td>\n",
       "      <td>0.50</td>\n",
       "      <td>2.5</td>\n",
       "      <td>0.055</td>\n",
       "      <td>12.0</td>\n",
       "      <td>25.0</td>\n",
       "      <td>0.99520</td>\n",
       "      <td>3.34</td>\n",
       "      <td>0.79</td>\n",
       "      <td>13.3</td>\n",
       "      <td>7</td>\n",
       "    </tr>\n",
       "    <tr>\n",
       "      <th>154</th>\n",
       "      <td>7.1</td>\n",
       "      <td>0.430</td>\n",
       "      <td>0.42</td>\n",
       "      <td>5.5</td>\n",
       "      <td>0.070</td>\n",
       "      <td>29.0</td>\n",
       "      <td>129.0</td>\n",
       "      <td>0.99730</td>\n",
       "      <td>3.42</td>\n",
       "      <td>0.72</td>\n",
       "      <td>10.5</td>\n",
       "      <td>5</td>\n",
       "    </tr>\n",
       "  </tbody>\n",
       "</table>\n",
       "</div>"
      ],
      "text/plain": [
       "      fixed acidity  volatile acidity  citric acid  residual sugar  chlorides  \\\n",
       "634             7.9             0.350         0.21             1.9      0.073   \n",
       "1204            7.2             0.360         0.46             2.1      0.074   \n",
       "445             9.5             0.735         0.10             2.1      0.079   \n",
       "491             9.2             0.410         0.50             2.5      0.055   \n",
       "154             7.1             0.430         0.42             5.5      0.070   \n",
       "\n",
       "      free sulfur dioxide  total sulfur dioxide  density    pH  sulphates  \\\n",
       "634                  46.0                 102.0  0.99640  3.27       0.58   \n",
       "1204                 24.0                  44.0  0.99534  3.40       0.85   \n",
       "445                   6.0                  31.0  0.99860  3.23       0.56   \n",
       "491                  12.0                  25.0  0.99520  3.34       0.79   \n",
       "154                  29.0                 129.0  0.99730  3.42       0.72   \n",
       "\n",
       "      alcohol  quality  \n",
       "634       9.5        5  \n",
       "1204     11.0        7  \n",
       "445      10.1        6  \n",
       "491      13.3        7  \n",
       "154      10.5        5  "
      ]
     },
     "execution_count": 29,
     "metadata": {},
     "output_type": "execute_result"
    }
   ],
   "source": [
    "df.sample(5)"
   ]
  },
  {
   "cell_type": "markdown",
   "id": "bc2f0851",
   "metadata": {},
   "source": [
    "# Missing Value Ratio"
   ]
  },
  {
   "cell_type": "markdown",
   "id": "98771e0b",
   "metadata": {},
   "source": [
    "# •\tThere is no thumb to for elimination based on missing value ration. \n",
    "# •\tIt is purely based on problem statement and nature data\n"
   ]
  },
  {
   "cell_type": "markdown",
   "id": "f0052aab",
   "metadata": {},
   "source": [
    "# Variance Threshold Method"
   ]
  },
  {
   "cell_type": "code",
   "execution_count": 30,
   "id": "801d583e",
   "metadata": {},
   "outputs": [],
   "source": [
    "from sklearn.feature_selection import VarianceThreshold"
   ]
  },
  {
   "cell_type": "code",
   "execution_count": 31,
   "id": "ed79939e",
   "metadata": {},
   "outputs": [],
   "source": [
    "var_threshold=VarianceThreshold(threshold=0.0)"
   ]
  },
  {
   "cell_type": "code",
   "execution_count": 32,
   "id": "77800b8c",
   "metadata": {},
   "outputs": [
    {
     "data": {
      "text/plain": [
       "array([ True,  True,  True,  True,  True,  True,  True,  True,  True,\n",
       "        True,  True,  True])"
      ]
     },
     "execution_count": 32,
     "metadata": {},
     "output_type": "execute_result"
    }
   ],
   "source": [
    "var_threshold.fit(df)\n",
    "arr=var_threshold.get_support()\n",
    "arr"
   ]
  },
  {
   "cell_type": "code",
   "execution_count": 33,
   "id": "c3910617",
   "metadata": {},
   "outputs": [
    {
     "data": {
      "text/plain": [
       "array([ True, False, False,  True, False,  True,  True, False, False,\n",
       "       False,  True, False])"
      ]
     },
     "execution_count": 33,
     "metadata": {},
     "output_type": "execute_result"
    }
   ],
   "source": [
    "var_threshold=VarianceThreshold(threshold=0.7)\n",
    "var_threshold.fit(df)\n",
    "arr=var_threshold.get_support()\n",
    "arr"
   ]
  },
  {
   "cell_type": "code",
   "execution_count": 34,
   "id": "2076efd2",
   "metadata": {},
   "outputs": [],
   "source": [
    "drop_list=np.where(arr==False)"
   ]
  },
  {
   "cell_type": "code",
   "execution_count": 35,
   "id": "c160f308",
   "metadata": {},
   "outputs": [],
   "source": [
    "df_VTM=df.drop(df.columns[drop_list[0]],axis=1)"
   ]
  },
  {
   "cell_type": "code",
   "execution_count": 36,
   "id": "7edf10c4",
   "metadata": {},
   "outputs": [
    {
     "data": {
      "text/html": [
       "<div>\n",
       "<style scoped>\n",
       "    .dataframe tbody tr th:only-of-type {\n",
       "        vertical-align: middle;\n",
       "    }\n",
       "\n",
       "    .dataframe tbody tr th {\n",
       "        vertical-align: top;\n",
       "    }\n",
       "\n",
       "    .dataframe thead th {\n",
       "        text-align: right;\n",
       "    }\n",
       "</style>\n",
       "<table border=\"1\" class=\"dataframe\">\n",
       "  <thead>\n",
       "    <tr style=\"text-align: right;\">\n",
       "      <th></th>\n",
       "      <th>fixed acidity</th>\n",
       "      <th>residual sugar</th>\n",
       "      <th>free sulfur dioxide</th>\n",
       "      <th>total sulfur dioxide</th>\n",
       "      <th>alcohol</th>\n",
       "    </tr>\n",
       "  </thead>\n",
       "  <tbody>\n",
       "    <tr>\n",
       "      <th>0</th>\n",
       "      <td>7.4</td>\n",
       "      <td>1.9</td>\n",
       "      <td>11.0</td>\n",
       "      <td>34.0</td>\n",
       "      <td>9.4</td>\n",
       "    </tr>\n",
       "    <tr>\n",
       "      <th>1</th>\n",
       "      <td>7.8</td>\n",
       "      <td>2.6</td>\n",
       "      <td>25.0</td>\n",
       "      <td>67.0</td>\n",
       "      <td>9.8</td>\n",
       "    </tr>\n",
       "    <tr>\n",
       "      <th>2</th>\n",
       "      <td>7.8</td>\n",
       "      <td>2.3</td>\n",
       "      <td>15.0</td>\n",
       "      <td>54.0</td>\n",
       "      <td>9.8</td>\n",
       "    </tr>\n",
       "    <tr>\n",
       "      <th>3</th>\n",
       "      <td>11.2</td>\n",
       "      <td>1.9</td>\n",
       "      <td>17.0</td>\n",
       "      <td>60.0</td>\n",
       "      <td>9.8</td>\n",
       "    </tr>\n",
       "    <tr>\n",
       "      <th>4</th>\n",
       "      <td>7.4</td>\n",
       "      <td>1.9</td>\n",
       "      <td>11.0</td>\n",
       "      <td>34.0</td>\n",
       "      <td>9.4</td>\n",
       "    </tr>\n",
       "    <tr>\n",
       "      <th>...</th>\n",
       "      <td>...</td>\n",
       "      <td>...</td>\n",
       "      <td>...</td>\n",
       "      <td>...</td>\n",
       "      <td>...</td>\n",
       "    </tr>\n",
       "    <tr>\n",
       "      <th>1594</th>\n",
       "      <td>6.2</td>\n",
       "      <td>2.0</td>\n",
       "      <td>32.0</td>\n",
       "      <td>44.0</td>\n",
       "      <td>10.5</td>\n",
       "    </tr>\n",
       "    <tr>\n",
       "      <th>1595</th>\n",
       "      <td>5.9</td>\n",
       "      <td>2.2</td>\n",
       "      <td>39.0</td>\n",
       "      <td>51.0</td>\n",
       "      <td>11.2</td>\n",
       "    </tr>\n",
       "    <tr>\n",
       "      <th>1596</th>\n",
       "      <td>6.3</td>\n",
       "      <td>2.3</td>\n",
       "      <td>29.0</td>\n",
       "      <td>40.0</td>\n",
       "      <td>11.0</td>\n",
       "    </tr>\n",
       "    <tr>\n",
       "      <th>1597</th>\n",
       "      <td>5.9</td>\n",
       "      <td>2.0</td>\n",
       "      <td>32.0</td>\n",
       "      <td>44.0</td>\n",
       "      <td>10.2</td>\n",
       "    </tr>\n",
       "    <tr>\n",
       "      <th>1598</th>\n",
       "      <td>6.0</td>\n",
       "      <td>3.6</td>\n",
       "      <td>18.0</td>\n",
       "      <td>42.0</td>\n",
       "      <td>11.0</td>\n",
       "    </tr>\n",
       "  </tbody>\n",
       "</table>\n",
       "<p>1599 rows × 5 columns</p>\n",
       "</div>"
      ],
      "text/plain": [
       "      fixed acidity  residual sugar  free sulfur dioxide  \\\n",
       "0               7.4             1.9                 11.0   \n",
       "1               7.8             2.6                 25.0   \n",
       "2               7.8             2.3                 15.0   \n",
       "3              11.2             1.9                 17.0   \n",
       "4               7.4             1.9                 11.0   \n",
       "...             ...             ...                  ...   \n",
       "1594            6.2             2.0                 32.0   \n",
       "1595            5.9             2.2                 39.0   \n",
       "1596            6.3             2.3                 29.0   \n",
       "1597            5.9             2.0                 32.0   \n",
       "1598            6.0             3.6                 18.0   \n",
       "\n",
       "      total sulfur dioxide  alcohol  \n",
       "0                     34.0      9.4  \n",
       "1                     67.0      9.8  \n",
       "2                     54.0      9.8  \n",
       "3                     60.0      9.8  \n",
       "4                     34.0      9.4  \n",
       "...                    ...      ...  \n",
       "1594                  44.0     10.5  \n",
       "1595                  51.0     11.2  \n",
       "1596                  40.0     11.0  \n",
       "1597                  44.0     10.2  \n",
       "1598                  42.0     11.0  \n",
       "\n",
       "[1599 rows x 5 columns]"
      ]
     },
     "execution_count": 36,
     "metadata": {},
     "output_type": "execute_result"
    }
   ],
   "source": [
    "df_VTM"
   ]
  },
  {
   "cell_type": "markdown",
   "id": "4d2c773b",
   "metadata": {},
   "source": [
    "# Chi-Square Test(Cat vs Cat)"
   ]
  },
  {
   "cell_type": "markdown",
   "id": "15b373fa",
   "metadata": {},
   "source": [
    "# Cat vs cat\n",
    "\n",
    "\n",
    "gender and Survived \n",
    "\n",
    "\n",
    "Null Hypothesis : Two variables are indepedent \n",
    "Alternate hypothesis : two variables are dependent \n",
    "\n",
    "p_val > 0.05   >> Accept null hypothesis [H0 is True]\n",
    "p_val <= 0.05 >> Reject Null Hypothesis [H0 is False]\n",
    "\n",
    "chi2 is high: \n",
    "    1. feature is important \n",
    "    2. p_val will be low (<0.05)\n",
    "\n",
    "chi2 is low: \n",
    "    1. Feature is not important \n",
    "    2. p_val will be high (>0.05)\n",
    "\n"
   ]
  },
  {
   "cell_type": "code",
   "execution_count": 37,
   "id": "15352709",
   "metadata": {},
   "outputs": [],
   "source": [
    "df_titanic=pd.read_csv('titanic_train.csv')\n"
   ]
  },
  {
   "cell_type": "code",
   "execution_count": 38,
   "id": "e3242df9",
   "metadata": {},
   "outputs": [
    {
     "data": {
      "text/html": [
       "<div>\n",
       "<style scoped>\n",
       "    .dataframe tbody tr th:only-of-type {\n",
       "        vertical-align: middle;\n",
       "    }\n",
       "\n",
       "    .dataframe tbody tr th {\n",
       "        vertical-align: top;\n",
       "    }\n",
       "\n",
       "    .dataframe thead th {\n",
       "        text-align: right;\n",
       "    }\n",
       "</style>\n",
       "<table border=\"1\" class=\"dataframe\">\n",
       "  <thead>\n",
       "    <tr style=\"text-align: right;\">\n",
       "      <th></th>\n",
       "      <th>PassengerId</th>\n",
       "      <th>Survived</th>\n",
       "      <th>Pclass</th>\n",
       "      <th>Name</th>\n",
       "      <th>Gender</th>\n",
       "      <th>Age</th>\n",
       "      <th>SibSp</th>\n",
       "      <th>Parch</th>\n",
       "      <th>Ticket</th>\n",
       "      <th>Fare</th>\n",
       "      <th>Cabin</th>\n",
       "      <th>Embarked</th>\n",
       "    </tr>\n",
       "  </thead>\n",
       "  <tbody>\n",
       "    <tr>\n",
       "      <th>424</th>\n",
       "      <td>425</td>\n",
       "      <td>0</td>\n",
       "      <td>3</td>\n",
       "      <td>Rosblom, Mr. Viktor Richard</td>\n",
       "      <td>male</td>\n",
       "      <td>18.0</td>\n",
       "      <td>1</td>\n",
       "      <td>1</td>\n",
       "      <td>370129</td>\n",
       "      <td>20.2125</td>\n",
       "      <td>NaN</td>\n",
       "      <td>S</td>\n",
       "    </tr>\n",
       "    <tr>\n",
       "      <th>523</th>\n",
       "      <td>524</td>\n",
       "      <td>1</td>\n",
       "      <td>1</td>\n",
       "      <td>Hippach, Mrs. Louis Albert (Ida Sophia Fischer)</td>\n",
       "      <td>female</td>\n",
       "      <td>44.0</td>\n",
       "      <td>0</td>\n",
       "      <td>1</td>\n",
       "      <td>111361</td>\n",
       "      <td>57.9792</td>\n",
       "      <td>B18</td>\n",
       "      <td>C</td>\n",
       "    </tr>\n",
       "    <tr>\n",
       "      <th>97</th>\n",
       "      <td>98</td>\n",
       "      <td>1</td>\n",
       "      <td>1</td>\n",
       "      <td>Greenfield, Mr. William Bertram</td>\n",
       "      <td>male</td>\n",
       "      <td>23.0</td>\n",
       "      <td>0</td>\n",
       "      <td>1</td>\n",
       "      <td>PC 17759</td>\n",
       "      <td>63.3583</td>\n",
       "      <td>D10 D12</td>\n",
       "      <td>C</td>\n",
       "    </tr>\n",
       "  </tbody>\n",
       "</table>\n",
       "</div>"
      ],
      "text/plain": [
       "     PassengerId  Survived  Pclass  \\\n",
       "424          425         0       3   \n",
       "523          524         1       1   \n",
       "97            98         1       1   \n",
       "\n",
       "                                                Name  Gender   Age  SibSp  \\\n",
       "424                      Rosblom, Mr. Viktor Richard    male  18.0      1   \n",
       "523  Hippach, Mrs. Louis Albert (Ida Sophia Fischer)  female  44.0      0   \n",
       "97                   Greenfield, Mr. William Bertram    male  23.0      0   \n",
       "\n",
       "     Parch    Ticket     Fare    Cabin Embarked  \n",
       "424      1    370129  20.2125      NaN        S  \n",
       "523      1    111361  57.9792      B18        C  \n",
       "97       1  PC 17759  63.3583  D10 D12        C  "
      ]
     },
     "execution_count": 38,
     "metadata": {},
     "output_type": "execute_result"
    }
   ],
   "source": [
    "df_titanic.sample(3)"
   ]
  },
  {
   "cell_type": "code",
   "execution_count": 39,
   "id": "02335920",
   "metadata": {
    "scrolled": true
   },
   "outputs": [
    {
     "data": {
      "text/plain": [
       "Index(['PassengerId', 'Survived', 'Pclass', 'Name', 'Gender', 'Age', 'SibSp',\n",
       "       'Parch', 'Ticket', 'Fare', 'Cabin', 'Embarked'],\n",
       "      dtype='object')"
      ]
     },
     "execution_count": 39,
     "metadata": {},
     "output_type": "execute_result"
    }
   ],
   "source": [
    "df_titanic.columns"
   ]
  },
  {
   "cell_type": "code",
   "execution_count": 40,
   "id": "f95c19cb",
   "metadata": {},
   "outputs": [],
   "source": [
    "df_1=df_titanic.loc[:,['Pclass','Gender','Parch','SibSp','Embarked','Survived']].dropna()"
   ]
  },
  {
   "cell_type": "code",
   "execution_count": 41,
   "id": "dc5b82b7",
   "metadata": {},
   "outputs": [],
   "source": [
    "df_x=df_1.loc[:,['Pclass','Gender','Parch','SibSp','Embarked']]\n",
    "df_y=df_1['Survived']"
   ]
  },
  {
   "cell_type": "code",
   "execution_count": 42,
   "id": "5cab7ffc",
   "metadata": {},
   "outputs": [],
   "source": [
    "from sklearn.feature_selection import chi2,SelectKBest"
   ]
  },
  {
   "cell_type": "code",
   "execution_count": 43,
   "id": "db3ec08c",
   "metadata": {},
   "outputs": [],
   "source": [
    "df_x['Gender'].replace({'female':0,'male':1},inplace=True)"
   ]
  },
  {
   "cell_type": "code",
   "execution_count": 44,
   "id": "e12ffe4e",
   "metadata": {},
   "outputs": [
    {
     "data": {
      "text/plain": [
       "{'S': 644, 'C': 168, 'Q': 77}"
      ]
     },
     "execution_count": 44,
     "metadata": {},
     "output_type": "execute_result"
    }
   ],
   "source": [
    "df_x['Embarked'].value_counts().to_dict()"
   ]
  },
  {
   "cell_type": "code",
   "execution_count": 45,
   "id": "669a4fc5",
   "metadata": {},
   "outputs": [],
   "source": [
    "df_x['Embarked'].replace({'S': 1, 'C': 2, 'Q': 3},inplace=True)"
   ]
  },
  {
   "cell_type": "code",
   "execution_count": 46,
   "id": "bddbf5b7",
   "metadata": {
    "scrolled": true
   },
   "outputs": [
    {
     "name": "stdout",
     "output_type": "stream",
     "text": [
      "<class 'pandas.core.frame.DataFrame'>\n",
      "Int64Index: 889 entries, 0 to 890\n",
      "Data columns (total 5 columns):\n",
      " #   Column    Non-Null Count  Dtype\n",
      "---  ------    --------------  -----\n",
      " 0   Pclass    889 non-null    int64\n",
      " 1   Gender    889 non-null    int64\n",
      " 2   Parch     889 non-null    int64\n",
      " 3   SibSp     889 non-null    int64\n",
      " 4   Embarked  889 non-null    int64\n",
      "dtypes: int64(5)\n",
      "memory usage: 41.7 KB\n"
     ]
    }
   ],
   "source": [
    "df_x.info()"
   ]
  },
  {
   "cell_type": "code",
   "execution_count": 47,
   "id": "1f970921",
   "metadata": {},
   "outputs": [
    {
     "data": {
      "text/plain": [
       "0      0\n",
       "1      1\n",
       "2      1\n",
       "3      1\n",
       "4      0\n",
       "      ..\n",
       "886    0\n",
       "887    1\n",
       "888    0\n",
       "889    1\n",
       "890    0\n",
       "Name: Survived, Length: 889, dtype: int64"
      ]
     },
     "execution_count": 47,
     "metadata": {},
     "output_type": "execute_result"
    }
   ],
   "source": [
    "df_y"
   ]
  },
  {
   "cell_type": "code",
   "execution_count": 48,
   "id": "044e3419",
   "metadata": {},
   "outputs": [],
   "source": [
    "chi2,p_value=chi2(df_x,df_y)"
   ]
  },
  {
   "cell_type": "code",
   "execution_count": 49,
   "id": "7b02afac",
   "metadata": {},
   "outputs": [
    {
     "data": {
      "text/plain": [
       "array([30.13526611, 91.51403687, 10.44859797,  2.39118845,  3.11536003])"
      ]
     },
     "execution_count": 49,
     "metadata": {},
     "output_type": "execute_result"
    }
   ],
   "source": [
    "chi2"
   ]
  },
  {
   "cell_type": "code",
   "execution_count": 50,
   "id": "8ee7ec55",
   "metadata": {},
   "outputs": [
    {
     "data": {
      "text/html": [
       "<div>\n",
       "<style scoped>\n",
       "    .dataframe tbody tr th:only-of-type {\n",
       "        vertical-align: middle;\n",
       "    }\n",
       "\n",
       "    .dataframe tbody tr th {\n",
       "        vertical-align: top;\n",
       "    }\n",
       "\n",
       "    .dataframe thead th {\n",
       "        text-align: right;\n",
       "    }\n",
       "</style>\n",
       "<table border=\"1\" class=\"dataframe\">\n",
       "  <thead>\n",
       "    <tr style=\"text-align: right;\">\n",
       "      <th></th>\n",
       "      <th>Features</th>\n",
       "      <th>Chi Value</th>\n",
       "      <th>P_Val</th>\n",
       "    </tr>\n",
       "  </thead>\n",
       "  <tbody>\n",
       "    <tr>\n",
       "      <th>0</th>\n",
       "      <td>Pclass</td>\n",
       "      <td>30.135266</td>\n",
       "      <td>4.029368e-08</td>\n",
       "    </tr>\n",
       "    <tr>\n",
       "      <th>1</th>\n",
       "      <td>Gender</td>\n",
       "      <td>91.514037</td>\n",
       "      <td>1.108034e-21</td>\n",
       "    </tr>\n",
       "    <tr>\n",
       "      <th>2</th>\n",
       "      <td>Parch</td>\n",
       "      <td>10.448598</td>\n",
       "      <td>1.227426e-03</td>\n",
       "    </tr>\n",
       "    <tr>\n",
       "      <th>3</th>\n",
       "      <td>SibSp</td>\n",
       "      <td>2.391188</td>\n",
       "      <td>1.220208e-01</td>\n",
       "    </tr>\n",
       "    <tr>\n",
       "      <th>4</th>\n",
       "      <td>Embarked</td>\n",
       "      <td>3.115360</td>\n",
       "      <td>7.755734e-02</td>\n",
       "    </tr>\n",
       "  </tbody>\n",
       "</table>\n",
       "</div>"
      ],
      "text/plain": [
       "   Features  Chi Value         P_Val\n",
       "0    Pclass  30.135266  4.029368e-08\n",
       "1    Gender  91.514037  1.108034e-21\n",
       "2     Parch  10.448598  1.227426e-03\n",
       "3     SibSp   2.391188  1.220208e-01\n",
       "4  Embarked   3.115360  7.755734e-02"
      ]
     },
     "execution_count": 50,
     "metadata": {},
     "output_type": "execute_result"
    }
   ],
   "source": [
    "df_chi_value = pd.DataFrame({\"Features\":df_x.columns, \"Chi Value\":chi2,\"P_Val\":p_value})\n",
    "df_chi_value"
   ]
  },
  {
   "cell_type": "code",
   "execution_count": 51,
   "id": "66f7175e",
   "metadata": {},
   "outputs": [
    {
     "data": {
      "text/html": [
       "<div>\n",
       "<style scoped>\n",
       "    .dataframe tbody tr th:only-of-type {\n",
       "        vertical-align: middle;\n",
       "    }\n",
       "\n",
       "    .dataframe tbody tr th {\n",
       "        vertical-align: top;\n",
       "    }\n",
       "\n",
       "    .dataframe thead th {\n",
       "        text-align: right;\n",
       "    }\n",
       "</style>\n",
       "<table border=\"1\" class=\"dataframe\">\n",
       "  <thead>\n",
       "    <tr style=\"text-align: right;\">\n",
       "      <th></th>\n",
       "      <th>Features</th>\n",
       "      <th>Chi Value</th>\n",
       "      <th>P_Val</th>\n",
       "    </tr>\n",
       "  </thead>\n",
       "  <tbody>\n",
       "    <tr>\n",
       "      <th>1</th>\n",
       "      <td>Gender</td>\n",
       "      <td>91.514037</td>\n",
       "      <td>1.108034e-21</td>\n",
       "    </tr>\n",
       "    <tr>\n",
       "      <th>0</th>\n",
       "      <td>Pclass</td>\n",
       "      <td>30.135266</td>\n",
       "      <td>4.029368e-08</td>\n",
       "    </tr>\n",
       "    <tr>\n",
       "      <th>2</th>\n",
       "      <td>Parch</td>\n",
       "      <td>10.448598</td>\n",
       "      <td>1.227426e-03</td>\n",
       "    </tr>\n",
       "    <tr>\n",
       "      <th>4</th>\n",
       "      <td>Embarked</td>\n",
       "      <td>3.115360</td>\n",
       "      <td>7.755734e-02</td>\n",
       "    </tr>\n",
       "    <tr>\n",
       "      <th>3</th>\n",
       "      <td>SibSp</td>\n",
       "      <td>2.391188</td>\n",
       "      <td>1.220208e-01</td>\n",
       "    </tr>\n",
       "  </tbody>\n",
       "</table>\n",
       "</div>"
      ],
      "text/plain": [
       "   Features  Chi Value         P_Val\n",
       "1    Gender  91.514037  1.108034e-21\n",
       "0    Pclass  30.135266  4.029368e-08\n",
       "2     Parch  10.448598  1.227426e-03\n",
       "4  Embarked   3.115360  7.755734e-02\n",
       "3     SibSp   2.391188  1.220208e-01"
      ]
     },
     "execution_count": 51,
     "metadata": {},
     "output_type": "execute_result"
    }
   ],
   "source": [
    "df_chi_value.sort_values('P_Val')"
   ]
  },
  {
   "cell_type": "code",
   "execution_count": 61,
   "id": "1da07cb9",
   "metadata": {},
   "outputs": [],
   "source": [
    "# best_fea = SelectKBest(chi2, k = 3)\n",
    "# best_fea.fit(df_x,df_y)\n",
    "# arr = best_fea.scores_\n",
    "# array1 = best_fea.get_support()\n",
    "# print(array1)\n",
    "# print(arr)"
   ]
  },
  {
   "cell_type": "markdown",
   "id": "48853e8f",
   "metadata": {},
   "source": [
    "#  ANOVA Test "
   ]
  },
  {
   "cell_type": "raw",
   "id": "bcd450ea",
   "metadata": {},
   "source": [
    "Anova >> Analysis of Variance \n",
    "\n",
    "Numerical vs Categorical \n",
    "\n",
    "Steps :\n",
    "    \n",
    "    1. define Hypothesis\n",
    "    2. determine values >> degree_varaince[f-val],p_val\n",
    "    3. Accept or Reject Null Hypothesis [H0]"
   ]
  },
  {
   "cell_type": "code",
   "execution_count": 62,
   "id": "bad76ce9",
   "metadata": {},
   "outputs": [],
   "source": [
    "from sklearn.feature_selection import f_classif"
   ]
  },
  {
   "cell_type": "code",
   "execution_count": 64,
   "id": "de18e793",
   "metadata": {},
   "outputs": [],
   "source": [
    "df_x1=df.drop('quality',axis=1)\n",
    "df_y2=df['quality']"
   ]
  },
  {
   "cell_type": "code",
   "execution_count": 65,
   "id": "c7863599",
   "metadata": {},
   "outputs": [],
   "source": [
    "anova_score,p_value=f_classif(df_x1,df_y2)"
   ]
  },
  {
   "cell_type": "code",
   "execution_count": 66,
   "id": "a9f12753",
   "metadata": {},
   "outputs": [],
   "source": [
    "df_annova=pd.DataFrame({'Feature':df_x1.columns,'annova_score':anova_score,'P_value':p_value})"
   ]
  },
  {
   "cell_type": "code",
   "execution_count": 68,
   "id": "96e30810",
   "metadata": {
    "scrolled": true
   },
   "outputs": [
    {
     "data": {
      "text/html": [
       "<div>\n",
       "<style scoped>\n",
       "    .dataframe tbody tr th:only-of-type {\n",
       "        vertical-align: middle;\n",
       "    }\n",
       "\n",
       "    .dataframe tbody tr th {\n",
       "        vertical-align: top;\n",
       "    }\n",
       "\n",
       "    .dataframe thead th {\n",
       "        text-align: right;\n",
       "    }\n",
       "</style>\n",
       "<table border=\"1\" class=\"dataframe\">\n",
       "  <thead>\n",
       "    <tr style=\"text-align: right;\">\n",
       "      <th></th>\n",
       "      <th>Feature</th>\n",
       "      <th>annova_score</th>\n",
       "      <th>P_value</th>\n",
       "    </tr>\n",
       "  </thead>\n",
       "  <tbody>\n",
       "    <tr>\n",
       "      <th>10</th>\n",
       "      <td>alcohol</td>\n",
       "      <td>115.854797</td>\n",
       "      <td>1.209895e-104</td>\n",
       "    </tr>\n",
       "    <tr>\n",
       "      <th>1</th>\n",
       "      <td>volatile acidity</td>\n",
       "      <td>60.913993</td>\n",
       "      <td>3.326465e-58</td>\n",
       "    </tr>\n",
       "    <tr>\n",
       "      <th>6</th>\n",
       "      <td>total sulfur dioxide</td>\n",
       "      <td>25.478510</td>\n",
       "      <td>8.533598e-25</td>\n",
       "    </tr>\n",
       "    <tr>\n",
       "      <th>9</th>\n",
       "      <td>sulphates</td>\n",
       "      <td>22.273376</td>\n",
       "      <td>1.225890e-21</td>\n",
       "    </tr>\n",
       "    <tr>\n",
       "      <th>2</th>\n",
       "      <td>citric acid</td>\n",
       "      <td>19.690664</td>\n",
       "      <td>4.421092e-19</td>\n",
       "    </tr>\n",
       "    <tr>\n",
       "      <th>7</th>\n",
       "      <td>density</td>\n",
       "      <td>13.396357</td>\n",
       "      <td>8.124395e-13</td>\n",
       "    </tr>\n",
       "    <tr>\n",
       "      <th>0</th>\n",
       "      <td>fixed acidity</td>\n",
       "      <td>6.283081</td>\n",
       "      <td>8.793967e-06</td>\n",
       "    </tr>\n",
       "    <tr>\n",
       "      <th>4</th>\n",
       "      <td>chlorides</td>\n",
       "      <td>6.035639</td>\n",
       "      <td>1.526539e-05</td>\n",
       "    </tr>\n",
       "    <tr>\n",
       "      <th>5</th>\n",
       "      <td>free sulfur dioxide</td>\n",
       "      <td>4.754233</td>\n",
       "      <td>2.570827e-04</td>\n",
       "    </tr>\n",
       "    <tr>\n",
       "      <th>8</th>\n",
       "      <td>pH</td>\n",
       "      <td>4.341764</td>\n",
       "      <td>6.284389e-04</td>\n",
       "    </tr>\n",
       "    <tr>\n",
       "      <th>3</th>\n",
       "      <td>residual sugar</td>\n",
       "      <td>1.053374</td>\n",
       "      <td>3.846188e-01</td>\n",
       "    </tr>\n",
       "  </tbody>\n",
       "</table>\n",
       "</div>"
      ],
      "text/plain": [
       "                 Feature  annova_score        P_value\n",
       "10               alcohol    115.854797  1.209895e-104\n",
       "1       volatile acidity     60.913993   3.326465e-58\n",
       "6   total sulfur dioxide     25.478510   8.533598e-25\n",
       "9              sulphates     22.273376   1.225890e-21\n",
       "2            citric acid     19.690664   4.421092e-19\n",
       "7                density     13.396357   8.124395e-13\n",
       "0          fixed acidity      6.283081   8.793967e-06\n",
       "4              chlorides      6.035639   1.526539e-05\n",
       "5    free sulfur dioxide      4.754233   2.570827e-04\n",
       "8                     pH      4.341764   6.284389e-04\n",
       "3         residual sugar      1.053374   3.846188e-01"
      ]
     },
     "execution_count": 68,
     "metadata": {},
     "output_type": "execute_result"
    }
   ],
   "source": [
    "df_annova.sort_values('P_value')"
   ]
  },
  {
   "cell_type": "markdown",
   "id": "5156a154",
   "metadata": {},
   "source": [
    "# MAD  Mean Absolute Diffrence\n"
   ]
  },
  {
   "cell_type": "raw",
   "id": "4eaea706",
   "metadata": {},
   "source": [
    "In MAD compute the absolute / actual difference from mean values \n",
    "\n",
    "The main difference between the variance & MAD is absence of square. \n",
    "\n",
    "higher the value of Mean Absolute Difference[MAD] i.e higher importance of feature. "
   ]
  },
  {
   "cell_type": "code",
   "execution_count": null,
   "id": "c1e158de",
   "metadata": {},
   "outputs": [],
   "source": []
  },
  {
   "cell_type": "code",
   "execution_count": null,
   "id": "f762ec98",
   "metadata": {},
   "outputs": [],
   "source": []
  },
  {
   "cell_type": "code",
   "execution_count": null,
   "id": "3e19d36e",
   "metadata": {},
   "outputs": [],
   "source": []
  },
  {
   "cell_type": "code",
   "execution_count": null,
   "id": "9f4c08b9",
   "metadata": {},
   "outputs": [],
   "source": []
  },
  {
   "cell_type": "code",
   "execution_count": null,
   "id": "744fa984",
   "metadata": {},
   "outputs": [],
   "source": []
  }
 ],
 "metadata": {
  "kernelspec": {
   "display_name": "Python 3 (ipykernel)",
   "language": "python",
   "name": "python3"
  },
  "language_info": {
   "codemirror_mode": {
    "name": "ipython",
    "version": 3
   },
   "file_extension": ".py",
   "mimetype": "text/x-python",
   "name": "python",
   "nbconvert_exporter": "python",
   "pygments_lexer": "ipython3",
   "version": "3.9.7"
  }
 },
 "nbformat": 4,
 "nbformat_minor": 5
}
